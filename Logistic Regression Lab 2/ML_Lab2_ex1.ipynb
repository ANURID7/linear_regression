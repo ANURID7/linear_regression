{
  "nbformat": 4,
  "nbformat_minor": 0,
  "metadata": {
    "colab": {
      "provenance": [],
      "toc_visible": true
    },
    "kernelspec": {
      "name": "python3",
      "display_name": "Python 3"
    },
    "language_info": {
      "name": "python"
    }
  },
  "cells": [
    {
      "cell_type": "code",
      "execution_count": null,
      "metadata": {
        "id": "_C4TQ92a4EGZ"
      },
      "outputs": [],
      "source": [
        "import pandas as pd\n",
        "import numpy as np\n",
        "import statsmodels.api as sm\n",
        "import matplotlib.pyplot as plt\n",
        "import seaborn as sns"
      ]
    },
    {
      "cell_type": "code",
      "source": [
        "url = \"https://stats.idre.ucla.edu/stat/stata/dae/binary.dta\"\n",
        "data = pd.read_stata(url)\n",
        "\n",
        "print(data.head())"
      ],
      "metadata": {
        "colab": {
          "base_uri": "https://localhost:8080/"
        },
        "id": "oEisiXs465xe",
        "outputId": "1db596b2-6374-481c-ea8e-1f21d4e430e7"
      },
      "execution_count": null,
      "outputs": [
        {
          "output_type": "stream",
          "name": "stdout",
          "text": [
            "   admit    gre   gpa  rank\n",
            "0    0.0  380.0  3.61   3.0\n",
            "1    1.0  660.0  3.67   3.0\n",
            "2    1.0  800.0  4.00   1.0\n",
            "3    1.0  640.0  3.19   4.0\n",
            "4    0.0  520.0  2.93   4.0\n"
          ]
        }
      ]
    },
    {
      "cell_type": "code",
      "source": [
        "print(data.isnull().sum())"
      ],
      "metadata": {
        "colab": {
          "base_uri": "https://localhost:8080/"
        },
        "id": "KS6ypTIh9Nq1",
        "outputId": "93ff7fdd-01b9-47e0-db2a-8257f64deb16"
      },
      "execution_count": null,
      "outputs": [
        {
          "output_type": "stream",
          "name": "stdout",
          "text": [
            "admit    0\n",
            "gre      0\n",
            "gpa      0\n",
            "rank     0\n",
            "dtype: int64\n"
          ]
        }
      ]
    },
    {
      "cell_type": "code",
      "source": [
        "data_encoded = pd.get_dummies(data, columns=['rank'], drop_first=True)"
      ],
      "metadata": {
        "id": "0KbA5GBLEw05"
      },
      "execution_count": null,
      "outputs": []
    },
    {
      "cell_type": "code",
      "source": [
        "y = data_encoded['admit'].astype(float)\n",
        "X = data_encoded.drop('admit', axis=1)"
      ],
      "metadata": {
        "id": "xc6K1nfG9YOm"
      },
      "execution_count": null,
      "outputs": []
    },
    {
      "cell_type": "code",
      "source": [
        "X = sm.add_constant(X)"
      ],
      "metadata": {
        "id": "2ZyyHuSN9aVw"
      },
      "execution_count": null,
      "outputs": []
    },
    {
      "cell_type": "code",
      "source": [
        "X = X.apply(pd.to_numeric)\n",
        "X = X.astype(float)"
      ],
      "metadata": {
        "id": "Sf5NL1iSJpFW"
      },
      "execution_count": null,
      "outputs": []
    },
    {
      "cell_type": "code",
      "source": [
        "print(X.dtypes)\n",
        "print(y.dtypes)"
      ],
      "metadata": {
        "colab": {
          "base_uri": "https://localhost:8080/"
        },
        "id": "S8iJ_Ra6JuVl",
        "outputId": "bbab53dd-a2d3-458f-b9fa-e5d358805874"
      },
      "execution_count": null,
      "outputs": [
        {
          "output_type": "stream",
          "name": "stdout",
          "text": [
            "const       float64\n",
            "gre         float64\n",
            "gpa         float64\n",
            "rank_2.0    float64\n",
            "rank_3.0    float64\n",
            "rank_4.0    float64\n",
            "dtype: object\n",
            "float64\n"
          ]
        }
      ]
    },
    {
      "cell_type": "code",
      "source": [
        "model = sm.Logit(y, X)\n",
        "result = model.fit()"
      ],
      "metadata": {
        "colab": {
          "base_uri": "https://localhost:8080/"
        },
        "id": "lVcMQtibJ2cN",
        "outputId": "3caaad89-f042-41fa-df6e-92c09b93f44d"
      },
      "execution_count": null,
      "outputs": [
        {
          "output_type": "stream",
          "name": "stdout",
          "text": [
            "Optimization terminated successfully.\n",
            "         Current function value: 0.573147\n",
            "         Iterations 6\n"
          ]
        }
      ]
    },
    {
      "cell_type": "code",
      "source": [
        "y_pred_prob = result.predict(X)"
      ],
      "metadata": {
        "id": "dKZIGcBpK2dV"
      },
      "execution_count": null,
      "outputs": []
    },
    {
      "cell_type": "code",
      "source": [
        "y_pred = (y_pred_prob >= 0.5).astype(int)"
      ],
      "metadata": {
        "id": "S7SzTzNWK37c"
      },
      "execution_count": null,
      "outputs": []
    },
    {
      "cell_type": "code",
      "source": [
        "print(\"Accuracy:\", accuracy_score(y, y_pred))\n",
        "print(\"\\nConfusion Matrix:\\n\", confusion_matrix(y, y_pred))"
      ],
      "metadata": {
        "colab": {
          "base_uri": "https://localhost:8080/"
        },
        "id": "rzHNta3MK-rM",
        "outputId": "f11bdae2-b9f5-41bc-e5d0-cf691873f4a1"
      },
      "execution_count": null,
      "outputs": [
        {
          "output_type": "stream",
          "name": "stdout",
          "text": [
            "Accuracy: 0.71\n",
            "\n",
            "Confusion Matrix:\n",
            " [[254  19]\n",
            " [ 97  30]]\n"
          ]
        }
      ]
    }
  ]
}